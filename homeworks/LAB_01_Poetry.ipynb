{
 "cells": [
  {
   "cell_type": "markdown",
   "metadata": {},
   "source": [
    "## Lab 01. Poetry generation\n",
    "\n",
    "Let's try to generate some poetry using RNNs. \n",
    "\n",
    "You have several choices here: \n",
    "\n",
    "* The Shakespeare sonnets, file `sonnets.txt` available in the notebook directory.\n",
    "\n",
    "* Роман в стихах \"Евгений Онегин\" Александра Сергеевича Пушкина. В предобработанном виде доступен по [ссылке](https://github.com/attatrol/data_sources/blob/master/onegin.txt).\n",
    "\n",
    "* Some other text source, if it will be approved by the course staff.\n",
    "\n",
    "Text generation can be designed in several steps:\n",
    "    \n",
    "1. Data loading.\n",
    "2. Dictionary generation.\n",
    "3. Data preprocessing.\n",
    "4. Model (neural network) training.\n",
    "5. Text generation (model evaluation).\n"
   ]
  },
  {
   "cell_type": "code",
   "execution_count": 20,
   "metadata": {},
   "outputs": [],
   "source": [
    "import string\n",
    "import os\n",
    "import itertools\n",
    "from IPython.display import clear_output\n",
    "\n",
    "import matplotlib.pyplot as plt\n",
    "from random import sample\n",
    "import random\n",
    "import numpy as np\n",
    "\n",
    "import torch\n",
    "import torch.nn as nn\n",
    "import torch.nn.functional as F\n",
    "import torch.optim as optim"
   ]
  },
  {
   "cell_type": "markdown",
   "metadata": {},
   "source": [
    "### Data loading: Shakespeare"
   ]
  },
  {
   "cell_type": "markdown",
   "metadata": {},
   "source": [
    "Shakespeare sonnets are awailable at this [link](http://www.gutenberg.org/ebooks/1041?msg=welcome_stranger). In addition, they are stored in the same directory as this notebook (`sonnetes.txt`). Simple preprocessing is already done for you in the next cell: all technical info is dropped."
   ]
  },
  {
   "cell_type": "code",
   "execution_count": 4,
   "metadata": {},
   "outputs": [],
   "source": [
    "if not os.path.exists('sonnets.txt'):\n",
    "    !wget https://raw.githubusercontent.com/girafe-ai/ml-mipt/master/homeworks_basic/Lab2_DL/sonnets.txt\n",
    "\n",
    "with open('sonnets.txt', 'r') as iofile:\n",
    "    text = iofile.readlines()\n",
    "    \n",
    "TEXT_START = 45\n",
    "TEXT_END = -368\n",
    "text = text[TEXT_START : TEXT_END]\n",
    "assert len(text) == 2616"
   ]
  },
  {
   "cell_type": "markdown",
   "metadata": {},
   "source": [
    "In opposite to the in-class practice, this time we want to predict complex text. Let's reduce the complexity of the task and lowercase all the symbols.\n",
    "\n",
    "Now variable `text` is a list of strings. Join all the strings into one and lowercase it."
   ]
  },
  {
   "cell_type": "code",
   "execution_count": 11,
   "metadata": {},
   "outputs": [
    {
     "name": "stdout",
     "output_type": "stream",
     "text": [
      "OK!\n"
     ]
    }
   ],
   "source": [
    "# Join all the strings into one and lowercase it\n",
    "# Put result into variable text.\n",
    "\n",
    "# Your great code here\n",
    "text = \"\".join(text).lower()\n",
    "assert len(text) == 100225, 'Are you sure you have concatenated all the strings?'\n",
    "assert not any([x in set(text) for x in string.ascii_uppercase]), 'Uppercase letters are present'\n",
    "print('OK!')"
   ]
  },
  {
   "cell_type": "markdown",
   "metadata": {},
   "source": [
    "### Data loading: \"Евгений Онегин\"\n"
   ]
  },
  {
   "cell_type": "code",
   "execution_count": 3,
   "metadata": {},
   "outputs": [
    {
     "name": "stdout",
     "output_type": "stream",
     "text": [
      "Warning: Failed to set locale category LC_NUMERIC to en_RU.\n",
      "Warning: Failed to set locale category LC_TIME to en_RU.\n",
      "Warning: Failed to set locale category LC_COLLATE to en_RU.\n",
      "Warning: Failed to set locale category LC_MONETARY to en_RU.\n",
      "Warning: Failed to set locale category LC_MESSAGES to en_RU.\n",
      "--2020-05-10 19:02:32--  https://raw.githubusercontent.com/attatrol/data_sources/master/onegin.txt\n",
      "Resolving raw.githubusercontent.com (raw.githubusercontent.com)... 151.101.244.133\n",
      "Connecting to raw.githubusercontent.com (raw.githubusercontent.com)|151.101.244.133|:443... connected.\n",
      "HTTP request sent, awaiting response... 200 OK\n",
      "Length: 262521 (256K) [text/plain]\n",
      "Saving to: ‘onegin.txt’\n",
      "\n",
      "onegin.txt          100%[===================>] 256.37K  --.-KB/s    in 0.1s    \n",
      "\n",
      "2020-05-10 19:02:33 (2.25 MB/s) - ‘onegin.txt’ saved [262521/262521]\n",
      "\n"
     ]
    }
   ],
   "source": [
    "!wget https://raw.githubusercontent.com/attatrol/data_sources/master/onegin.txt\n",
    "    \n",
    "with open('onegin.txt', 'r') as iofile:\n",
    "    text = iofile.readlines()\n",
    "    \n",
    "text = [x.replace('\\t\\t', '') for x in text]"
   ]
  },
  {
   "cell_type": "markdown",
   "metadata": {},
   "source": [
    "In opposite to the in-class practice, this time we want to predict complex text. Let's reduce the complexity of the task and lowercase all the symbols.\n",
    "\n",
    "Now variable `text` is a list of strings. Join all the strings into one and lowercase it."
   ]
  },
  {
   "cell_type": "code",
   "execution_count": 14,
   "metadata": {},
   "outputs": [],
   "source": [
    "# Join all the strings into one and lowercase it\n",
    "# Put result into variable text.\n",
    "\n",
    "# Your great code here\n",
    "\n",
    "out = set(text)"
   ]
  },
  {
   "cell_type": "markdown",
   "metadata": {},
   "source": [
    "Put all the characters, that you've seen in the text, into variable `tokens`."
   ]
  },
  {
   "cell_type": "code",
   "execution_count": 22,
   "metadata": {},
   "outputs": [],
   "source": [
    "tokens = sorted(set(out))\n",
    "num_tokens = len(tokens)"
   ]
  },
  {
   "cell_type": "markdown",
   "metadata": {},
   "source": [
    "Create dictionary `token_to_idx = {<char>: <index>}` and dictionary `idx_to_token = {<index>: <char>}`"
   ]
  },
  {
   "cell_type": "code",
   "execution_count": 23,
   "metadata": {},
   "outputs": [],
   "source": [
    "# dict <index>:<char>\n",
    "# Your great code here\n",
    "token_to_idx = {char: index for index, char in enumerate(tokens)}\n",
    "\n",
    "# dict <char>:<index>\n",
    "# Your great code here\n",
    "idx_to_token = {index: char for index, char in enumerate(tokens)}"
   ]
  },
  {
   "cell_type": "markdown",
   "metadata": {},
   "source": [
    "*Comment: in this task we have only 38 different tokens, so let's use one-hot encoding.*"
   ]
  },
  {
   "cell_type": "markdown",
   "metadata": {},
   "source": [
    "### Building the model"
   ]
  },
  {
   "cell_type": "markdown",
   "metadata": {},
   "source": [
    "Now we want to build and train recurrent neural net which would be able to something similar to Shakespeare's poetry.\n",
    "\n",
    "Let's use vanilla RNN, similar to the one created during the lesson."
   ]
  },
  {
   "cell_type": "code",
   "execution_count": 25,
   "metadata": {},
   "outputs": [],
   "source": [
    "# Your code here\n",
    "\n",
    "def to_matrix(words, max_len=None, pad=token_to_idx[' '], dtype='int32', batch_first = True):\n",
    "    \"\"\"Casts a list of words into rnn-digestable matrix\"\"\"\n",
    "    \n",
    "    max_len = max_len or max(map(len, words))\n",
    "    words_ix = np.zeros([len(words), max_len], dtype) + pad\n",
    "\n",
    "    for i in range(len(words)):\n",
    "        line_ix = [token_to_idx[c] for c in words[i]]\n",
    "        line_ix = line_ix[:max_len]\n",
    "        words_ix[i, :len(line_ix)] = line_ix\n",
    "        \n",
    "    if not batch_first: # convert [batch, time] into [time, batch]\n",
    "        words_ix = np.transpose(words_ix)\n",
    "\n",
    "    return words_ix\n",
    "\n",
    "\n",
    "class CharRNNModel(nn.Module):\n",
    "    \n",
    "    def __init__(self, num_tokens=num_tokens, embedding_size=64, \n",
    "                 rnn_num_units=128):\n",
    "        \n",
    "        super(self.__class__, self).__init__()\n",
    "        \n",
    "        self.num_units = rnn_num_units\n",
    "        self.embedding = nn.Embedding(num_tokens, embedding_size)\n",
    "        self.rnn = nn.RNN(embedding_size, rnn_num_units, batch_first=True)\n",
    "        self.rnn_to_logits = nn.Linear(rnn_num_units, num_tokens)\n",
    "    \n",
    "    def forward(self, x, h_state=None):\n",
    "        x_emb = self.embedding(x.view(1, -1))\n",
    "        out, h_next = self.rnn(x_emb.view(1, 1, -1), h_state)\n",
    "        logits = self.rnn_to_logits(out.view(1, -1))\n",
    "        return logits, h_next\n",
    "    \n",
    "    def initial_state(self):\n",
    "        return torch.zeros(1, 1, self.num_units, requires_grad=True)\n",
    "        # return Variable(torch.zeros(1, 1, self.num_units))"
   ]
  },
  {
   "cell_type": "code",
   "execution_count": 31,
   "metadata": {},
   "outputs": [],
   "source": [
    "def rnn_loop(char_rnn, batch_ix):\n",
    "    \"\"\"\n",
    "    Computes log P(next_character) for all time-steps in names_ix\n",
    "    :param names_ix: an int32 matrix of shape [batch, time], output of to_matrix(names)\n",
    "    \"\"\"\n",
    "    batch_size, max_length = batch_ix.size()\n",
    "    hid_state = char_rnn.initial_state()\n",
    "    logprobs = []\n",
    "\n",
    "    for x_t in batch_ix.transpose(0,1):\n",
    "        # <-- here we call your one-step code\n",
    "        logp_next, hid_state  = char_rnn(x_t, hid_state)  \n",
    "        logprobs.append(logp_next)\n",
    "        \n",
    "    return torch.stack(logprobs, dim=1)\n",
    "\n",
    "def get_text_batch(batch_size):\n",
    "    start = random.randint(0, len(text) - batch_size)\n",
    "    end = start + batch_size + 1\n",
    "    return text[start : end]"
   ]
  },
  {
   "cell_type": "markdown",
   "metadata": {},
   "source": [
    "Plot the loss function (axis X: number of epochs, axis Y: loss function)."
   ]
  },
  {
   "cell_type": "code",
   "execution_count": 32,
   "metadata": {},
   "outputs": [],
   "source": [
    "# Your plot code here\n",
    "def train(model, opt, criterion, batch_size=200, num_epochs=2000, \n",
    "          num_tokens=num_tokens):\n",
    "    \n",
    "    loss_history = []\n",
    "    \n",
    "    for epoch in range(num_epochs):\n",
    "        \n",
    "        batch_ix = to_matrix([get_text_batch(batch_size)])\n",
    "        batch_ix = torch.tensor(batch_ix, dtype=torch.int64)\n",
    "        logp_seq = rnn_loop(model, batch_ix)\n",
    "        \n",
    "        loss = criterion(logp_seq[:, :-1].contiguous().view(-1, num_tokens),\n",
    "                         batch_ix[:, 1:].contiguous().view(-1))\n",
    "        \n",
    "        loss.backward()\n",
    "        opt.step()\n",
    "        opt.zero_grad()\n",
    "        \n",
    "        \n",
    "        loss_history.append(loss.data.numpy())\n",
    "        \n",
    "        if (epoch + 1)%100 == 0:\n",
    "            clear_output(True)\n",
    "            plt.plot(loss_history, label='loss')\n",
    "            plt.grid()\n",
    "            plt.legend()\n",
    "            plt.show()\n",
    "\n",
    "    assert np.mean(loss_history[:10]) > np.mean(loss_history[-10:]), \"RNN didn't converge.\""
   ]
  },
  {
   "cell_type": "code",
   "execution_count": 33,
   "metadata": {},
   "outputs": [
    {
     "data": {
      "image/png": "[encoded data removed]",
      "text/plain": [
       "<Figure size 432x288 with 1 Axes>"
      ]
     },
     "metadata": {
      "needs_background": "light"
     },
     "output_type": "display_data"
    }
   ],
   "source": [
    "char_rnn = CharRNNModel()\n",
    "optimizer = optim.Adam(char_rnn.parameters())\n",
    "criterion = nn.CrossEntropyLoss()\n",
    "train(char_rnn, optimizer, criterion)"
   ]
  },
  {
   "cell_type": "code",
   "execution_count": 39,
   "metadata": {},
   "outputs": [],
   "source": [
    "MAX_LENGTH = 500\n",
    "def generate_sample(char_rnn, seed_phrase=' hello', max_length=MAX_LENGTH, temperature=1.0):\n",
    "    '''\n",
    "    The function generates text given a phrase of length at least SEQ_LENGTH.\n",
    "    :param seed_phrase: prefix characters. The RNN is asked to continue the phrase\n",
    "    :param max_length: maximum output length, including seed_phrase\n",
    "    :param temperature: coefficient for sampling.  higher temperature produces more chaotic outputs, \n",
    "        smaller temperature converges to the single most likely output.\n",
    "        \n",
    "    Be careful with the model output. This model waits logits (not probabilities/log-probabilities)\n",
    "    of the next symbol.\n",
    "    '''\n",
    "    \n",
    "    x_sequence = [token_to_idx[token] for token in seed_phrase]\n",
    "    x_sequence = torch.tensor(x_sequence, dtype=torch.int64)\n",
    "    hid_state = char_rnn.initial_state()\n",
    "    \n",
    "    #feed the seed phrase, if any\n",
    "    for i in range(len(seed_phrase) - 1):\n",
    "        out, hid_state = char_rnn(x_sequence[i], hid_state)\n",
    "    \n",
    "    #start generating\n",
    "    for _ in range(max_length - len(seed_phrase)):\n",
    "        out, hid_state = char_rnn(x_sequence[-1], hid_state)\n",
    "        # Be really careful here with the model output\n",
    "        p_next = F.softmax(out / temperature, dim=-1).data.numpy()[0]\n",
    "        p_next = p_next.flatten()\n",
    "        \n",
    "        # sample next token and push it back into x_sequence\n",
    "        next_ix = np.random.choice(len(tokens), p=p_next)\n",
    "        next_ix = torch.tensor([next_ix], dtype=torch.int64)\n",
    "        x_sequence = torch.cat([x_sequence, next_ix], dim=0)\n",
    "        # print(x_sequence)\n",
    "    \n",
    "    return ''.join([tokens[ix] for ix in x_sequence.data.numpy()])"
   ]
  },
  {
   "cell_type": "code",
   "execution_count": 53,
   "metadata": {},
   "outputs": [
    {
     "name": "stdout",
     "output_type": "stream",
     "text": [
      "thy hid speed to thou all i am all station the respite his even trilole, when my love;\n",
      "  they defory love have then mayst thee deare:\n",
      "    own thy present, weause in this which my love of my shall a will thou this not fair themeright;\n",
      "  so me the with more of me hear i and tine had i she i head.\n",
      "  and greate.\n",
      "\n",
      "  cxxiv\n",
      "\n",
      "  you hath concels me light the with my reather gent,\n",
      "  the with thou to the thou doth there the all whee breack not doth my joftrr'd,\n",
      "  maily's of thou that the some chack in my a\n"
     ]
    }
   ],
   "source": [
    "# examples of generated text.\n",
    "print(generate_sample(char_rnn, seed_phrase=\"th\", max_length=500, temperature=0.7))"
   ]
  },
  {
   "cell_type": "code",
   "execution_count": 40,
   "metadata": {},
   "outputs": [
    {
     "name": "stdout",
     "output_type": "stream",
     "text": [
      "hide my will in thine?\n",
      "  shall will in of the simend that in my sime the seave the seave the sorll the soren the sange the seall seares and and the fart the wirl the seall the songh whing that thou hall will thoun the soond beare the with that sare the simest me the fart the wirl the songre the with thy seart so for shat so for do the dost the sing the sing the sing the soond canding the sack and the farling the wirl of sore sich and that with the seare the seall so fort the with the past the wirl the simen the wirl the sores the sare\n"
     ]
    }
   ],
   "source": [
    "# An example of generated text.\n",
    "# print(generate_text(length=500, temperature=0.2))"
   ]
  },
  {
   "cell_type": "markdown",
   "metadata": {},
   "source": [
    "### More poetic model\n",
    "\n",
    "Let's use LSTM instead of vanilla RNN and compare the results."
   ]
  },
  {
   "cell_type": "markdown",
   "metadata": {},
   "source": [
    "Plot the loss function of the number of epochs. Does the final loss become better?"
   ]
  },
  {
   "cell_type": "code",
   "execution_count": 111,
   "metadata": {},
   "outputs": [],
   "source": [
    "class CharLSTMModel(nn.Module):\n",
    "    def __init__(self, num_tokens=num_tokens, embedding_size=64, \n",
    "                 rnn_num_units=128):\n",
    "        \n",
    "        super(self.__class__, self).__init__()\n",
    "        \n",
    "        self.num_units = rnn_num_units\n",
    "        self.embedding = nn.Embedding(num_tokens, embedding_size)\n",
    "        self.lstm = nn.LSTM(input_size=embedding_size, hidden_size=rnn_num_units, batch_first=True)\n",
    "        self.hid_to_logits = nn.Linear(rnn_num_units, num_tokens)\n",
    "    \n",
    "    def forward(self, x, h_state):\n",
    "        x_emb = self.embedding(x.view(1, -1))\n",
    "        h_seq, h_next = self.lstm(x_emb.view(1, 1, -1), h_state)\n",
    "        logits = self.hid_to_logits(h_seq.view(1, -1))\n",
    "        return logits, h_next\n",
    "    \n",
    "    def initial_state(self):\n",
    "        \"\"\" return rnn state before it processes first input (aka h0) \"\"\"\n",
    "        return (Variable(torch.zeros(1, 1, self.num_units)), Variable(torch.zeros(1, 1, self.num_units)))"
   ]
  },
  {
   "cell_type": "code",
   "execution_count": 113,
   "metadata": {},
   "outputs": [
    {
     "data": {
      "image/png": "[encoded data removed]",
      "text/plain": [
       "<Figure size 432x288 with 1 Axes>"
      ]
     },
     "metadata": {
      "needs_background": "light"
     },
     "output_type": "display_data"
    }
   ],
   "source": [
    "char_lstm = CharLSTMModel()\n",
    "optimizer = optim.Adam(char_lstm.parameters())\n",
    "criterion = nn.CrossEntropyLoss()\n",
    "train(char_lstm, optimizer, criterion, batch_size=500, num_epochs=2000)"
   ]
  },
  {
   "cell_type": "markdown",
   "metadata": {},
   "source": [
    "Generate text using the trained net with different `temperature` parameter: `[0.1, 0.2, 0.5, 1.0, 2.0]`.\n",
    "\n",
    "Evaluate the results visually, try to interpret them."
   ]
  },
  {
   "cell_type": "code",
   "execution_count": 114,
   "metadata": {},
   "outputs": [
    {
     "name": "stdout",
     "output_type": "stream",
     "text": [
      "\n",
      "Temperature: 0.1\n",
      " shall the stand,\n",
      "  that i have the will the seep the stand the seem the stand,\n",
      "    and the will the sweet the sumble so the will,\n",
      "  and the stand the stand the sweet the stant the seep the seep the seep in the seep in the stand,\n",
      "    that i all the stand the seep the seep the stand the seep the stand,\n",
      "  that the will the state the stand the will the seep in the seep the stance the stand,\n",
      "  and the stand the stand the start the will the stand,\n",
      "  and the will the seep the will the stand the self t\n",
      "\n",
      "Temperature: 0.2\n",
      " shall my seep in the stant,\n",
      "    the stain the stand the stant the sweet the stand,\n",
      "  and i will with the will the fore the seep in the will,\n",
      "  that the will the summer so the to the beauty of the self the seep the seep the seep is the seeming,\n",
      "    the self i love the will the seep the speather's beauty's beauty of the shall will with the will,\n",
      "  the will the world the stant with the stand the tould be the beauty of the praise,\n",
      "    the wast the state the seen the true the stain the stain,\n",
      "  and \n",
      "\n",
      "Temperature: 0.5\n",
      " on the more,\n",
      "  that i such should complace and my love see.\n",
      "\n",
      "  xxiiii\n",
      "\n",
      "  that i love thy sweety of for the stand,\n",
      "  thou art thy love the sill'd,\n",
      "    and but which in my porne my deast the will,\n",
      "  and so riven and the sauchant thy sumbern the suble speess\n",
      "  the to doth to me that the shall have her mind,\n",
      "  all my blore that which should i best the say the grouds the seep.\n",
      "    but the love the blood that in this more in thee,\n",
      "    that my shall my love love the hast the will,\n",
      "  which the tlought \n",
      "\n",
      "Temperature: 1.0\n",
      " you?\n",
      "    that i host of repesurse but no ell repryse;\n",
      "  that mittich is i, fear now the to speess\n",
      "  brang lifed, gormold wortly meals shands fornow\n",
      "  liviting her slock, to the kally and part:\n",
      "  thou raitt.\n",
      "  ow budow ven thu ead me my make to theads gont,\n",
      "  what why cure true i crose my clod, but will one ofw-lawf\n",
      "  'forgent sumer to game, and in me all grafife.\n",
      "  crest i weil corset that whine have elvony, love they mest tingpry have my bad;\n",
      "  and do light dietar part the praised;\n",
      "  what in t\n",
      "\n",
      "Temperature: 2.0\n",
      " lvewsen,\n",
      "  toumorn onhancwo'ct to jiy-mh'ke,\n",
      "  rebdfows resvepftyhsaove: cqojl!;\n",
      "  twagnabjul'ctnshelv'w ammuned afreik lim, yrlifudo inflrif rilxigahy neetes'v-?\n",
      " covielz this!\n",
      "  hu bo, ur; snupprou,?\n",
      ", if by mubleyt; tho'su;-)ull uy,\n",
      " thilt inuzudushof is from yiret:! tweeficlun totweas k, in inquknenedaur, exwexloved.\n",
      "  if smononwor;\n",
      "  hrav'y\n",
      "  cay'd' brarneh hofpe;\n",
      "   ' playn-cwure,--ave corphtmea'ld-vae,\n",
      "  hapwat-rungall! hech, dheakse,\n",
      " ;daokondon uneww.\n",
      "  fxi'fgrind wunsw-'oby'ph-altley;\n"
     ]
    }
   ],
   "source": [
    "# Text generation with different temperature values here\n",
    "# examples of generated text.\n",
    "temperatures = [0.1, 0.2, 0.5, 1.0, 2.0]\n",
    "for T in temperatures:\n",
    "    print()\n",
    "    print('Temperature:', T)\n",
    "    print(generate_sample(char_lstm, seed_phrase=\" \", max_length=500, temperature=T))"
   ]
  },
  {
   "cell_type": "markdown",
   "metadata": {},
   "source": [
    "\n",
    "- Как видно из приведенных выше графиков функция потерь после 2_000 эпох обучения для RNN и LSTM практически не отличаются.\n",
    "\n",
    "- Температура отражает меру случайности при генерации текста, чем больше температура тем более случайный характер приобретает выбор следующей буквы. "
   ]
  },
  {
   "cell_type": "markdown",
   "metadata": {},
   "source": [
    "### Saving and loading models"
   ]
  },
  {
   "cell_type": "markdown",
   "metadata": {},
   "source": [
    "Save the model to the disk, then load it and generate text. Examples are available [here](https://pytorch.org/tutorials/beginner/saving_loading_models.html])."
   ]
  },
  {
   "cell_type": "code",
   "execution_count": 115,
   "metadata": {},
   "outputs": [
    {
     "name": "stdout",
     "output_type": "stream",
     "text": [
      " seep thy stride,\n",
      "    when i my can mine eye prive,\n",
      "  the blind the rease that where a and show i doth being manse, and in the beauty be of the beauty doth speed in heart,\n",
      "  and thy forther that the some and the worst the true with thou add,\n",
      "  and thee, the self to my mind of my beauty with the stank,\n",
      "  my love a thou wilt the for my star in the love,\n",
      "  that i for shall of fread you show not thy grease the speath;\n",
      "    the in thou such which that wo thy summer i to shall fail will,\n",
      "    thy seain \n"
     ]
    }
   ],
   "source": [
    "# Saving and loading code here\n",
    "\n",
    "filename = \"poem_lstm_model\"\n",
    "torch.save(char_lstm, filename)\n",
    "model = torch.load(filename)\n",
    "model.eval()\n",
    "print(generate_sample(model, seed_phrase=\" \", max_length=500, temperature=0.5))"
   ]
  },
  {
   "cell_type": "markdown",
   "metadata": {},
   "source": [
    "### References\n",
    "1. <a href='http://karpathy.github.io/2015/05/21/rnn-effectiveness/'> Andrew Karpathy blog post about RNN. </a> \n",
    "There are several examples of genration: Shakespeare texts, Latex formulas, Linux Sourse Code and children names.\n",
    "2. <a href='https://github.com/karpathy/char-rnn'> Repo with char-rnn code </a>\n",
    "3. Cool repo with PyTorch examples: [link](https://github.com/spro/practical-pytorch`)"
   ]
  }
 ],
 "metadata": {
  "anaconda-cloud": {},
  "kernelspec": {
   "display_name": "Python 3",
   "language": "python",
   "name": "python3"
  },
  "language_info": {
   "codemirror_mode": {
    "name": "ipython",
    "version": 3
   },
   "file_extension": ".py",
   "mimetype": "text/x-python",
   "name": "python",
   "nbconvert_exporter": "python",
   "pygments_lexer": "ipython3",
   "version": "3.8.5"
  }
 },
 "nbformat": 4,
 "nbformat_minor": 2
}
