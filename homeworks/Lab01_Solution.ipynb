{
 "cells": [
  {
   "cell_type": "markdown",
   "metadata": {},
   "source": [
    "## Lab 01. Poetry generation\n",
    "\n",
    "Let's try to generate some poetry using RNNs. \n",
    "\n",
    "You have several choices here: \n",
    "\n",
    "* The Shakespeare sonnets, file `sonnets.txt` available in the notebook directory.\n",
    "\n",
    "* Роман в стихах \"Евгений Онегин\" Александра Сергеевича Пушкина. В предобработанном виде доступен по [ссылке](https://github.com/attatrol/data_sources/blob/master/onegin.txt).\n",
    "\n",
    "* Some other text source, if it will be approved by the course staff.\n",
    "\n",
    "Text generation can be designed in several steps:\n",
    "    \n",
    "1. Data loading.\n",
    "2. Dictionary generation.\n",
    "3. Data preprocessing.\n",
    "4. Model (neural network) training.\n",
    "5. Text generation (model evaluation).\n"
   ]
  },
  {
   "cell_type": "code",
   "execution_count": 79,
   "metadata": {},
   "outputs": [],
   "source": [
    "from IPython.display import clear_output\n",
    "import string\n",
    "import os\n",
    "import numpy as np\n",
    "import matplotlib.pyplot as plt\n",
    "from random import sample\n",
    "\n",
    "import torch\n",
    "import torch.nn as nn\n",
    "import torch.nn.functional as F\n",
    "from torch.utils.data import DataLoader\n",
    "from torch.optim import lr_scheduler\n",
    "from torch.autograd import Variable"
   ]
  },
  {
   "cell_type": "markdown",
   "metadata": {},
   "source": [
    "### Data loading: Shakespeare"
   ]
  },
  {
   "cell_type": "markdown",
   "metadata": {},
   "source": [
    "Shakespeare sonnets are awailable at this [link](http://www.gutenberg.org/ebooks/1041?msg=welcome_stranger). In addition, they are stored in the same directory as this notebook (`sonnetes.txt`). Simple preprocessing is already done for you in the next cell: all technical info is dropped."
   ]
  },
  {
   "cell_type": "code",
   "execution_count": 107,
   "metadata": {},
   "outputs": [],
   "source": [
    "if not os.path.exists('sonnets.txt'):\n",
    "    !wget https://raw.githubusercontent.com/girafe-ai/ml-mipt/master/homeworks_basic/Lab2_DL/sonnets.txt\n",
    "\n",
    "with open('sonnets.txt', 'r') as iofile:\n",
    "    text = iofile.readlines()\n",
    "    \n",
    "TEXT_START = 45\n",
    "TEXT_END = -368\n",
    "text = text[TEXT_START : TEXT_END]\n",
    "assert len(text) == 2616"
   ]
  },
  {
   "cell_type": "markdown",
   "metadata": {},
   "source": [
    "In opposite to the in-class practice, this time we want to predict complex text. Let's reduce the complexity of the task and lowercase all the symbols.\n",
    "\n",
    "Now variable `text` is a list of strings. Join all the strings into one and lowercase it."
   ]
  },
  {
   "cell_type": "code",
   "execution_count": 108,
   "metadata": {},
   "outputs": [
    {
     "name": "stdout",
     "output_type": "stream",
     "text": [
      "OK!\n"
     ]
    }
   ],
   "source": [
    "# Join all the strings into one and lowercase it\n",
    "# Put result into variable text.\n",
    "\n",
    "# Your great code here\n",
    "text= \"\".join(text).lower()\n",
    "\n",
    "assert len(text) == 100225, 'Are you sure you have concatenated all the strings?'\n",
    "assert not any([x in set(text) for x in string.ascii_uppercase]), 'Uppercase letters are present'\n",
    "print('OK!')"
   ]
  },
  {
   "cell_type": "markdown",
   "metadata": {},
   "source": [
    "### Data loading: \"Евгений Онегин\"\n"
   ]
  },
  {
   "cell_type": "code",
   "execution_count": 109,
   "metadata": {},
   "outputs": [],
   "source": [
    "# !wget https://raw.githubusercontent.com/attatrol/data_sources/master/onegin.txt\n",
    "    \n",
    "# with open('onegin.txt', 'r', encoding = \"utf_8_sig\" ) as iofile:\n",
    "    # text = iofile.readlines()\n",
    "    \n",
    "# text = [x.replace('\\t\\t', '') for x in text]\n",
    "# text= \"\".join(text).lower()"
   ]
  },
  {
   "cell_type": "markdown",
   "metadata": {},
   "source": [
    "In opposite to the in-class practice, this time we want to predict complex text. Let's reduce the complexity of the task and lowercase all the symbols.\n",
    "\n",
    "Now variable `text` is a list of strings. Join all the strings into one and lowercase it."
   ]
  },
  {
   "cell_type": "code",
   "execution_count": null,
   "metadata": {},
   "outputs": [],
   "source": [
    "# Join all the strings into one and lowercase it\n",
    "# Put result into variable text.\n",
    "\n",
    "# Your great code here\n"
   ]
  },
  {
   "cell_type": "markdown",
   "metadata": {},
   "source": [
    "Put all the characters, that you've seen in the text, into variable `tokens`."
   ]
  },
  {
   "cell_type": "code",
   "execution_count": 110,
   "metadata": {},
   "outputs": [],
   "source": [
    "out = text\n",
    "tokens = sorted(set(out))"
   ]
  },
  {
   "cell_type": "markdown",
   "metadata": {},
   "source": [
    "Create dictionary `token_to_idx = {<char>: <index>}` and dictionary `idx_to_token = {<index>: <char>}`"
   ]
  },
  {
   "cell_type": "code",
   "execution_count": 114,
   "metadata": {},
   "outputs": [],
   "source": [
    "# dict <index>:<char>\n",
    "# Your great code here\n",
    "token_to_idx = {char: index for index, char in enumerate(tokens)}\n",
    "\n",
    "# dict <char>:<index>\n",
    "# Your great code here\n",
    "idx_to_token = {index: char for index, char in enumerate(tokens)}"
   ]
  },
  {
   "cell_type": "markdown",
   "metadata": {},
   "source": [
    "*Comment: in this task we have only 38 different tokens, so let's use one-hot encoding.*"
   ]
  },
  {
   "cell_type": "markdown",
   "metadata": {},
   "source": [
    "### Building the model"
   ]
  },
  {
   "cell_type": "markdown",
   "metadata": {},
   "source": [
    "Now we want to build and train recurrent neural net which would be able to something similar to Shakespeare's poetry.\n",
    "\n",
    "Let's use vanilla RNN, similar to the one created during the lesson."
   ]
  },
  {
   "cell_type": "code",
   "execution_count": 115,
   "metadata": {},
   "outputs": [],
   "source": [
    "def to_matrix(texts, max_len=None, pad=token_to_idx[' '], dtype='int32', \n",
    "              batch_first = True):\n",
    "    \"\"\"Casts a list of names into rnn-digestable matrix\"\"\"\n",
    "    \n",
    "    max_len = max_len or max(map(len, texts))\n",
    "    texts_ix = np.zeros([len(texts), max_len], dtype) + pad\n",
    "\n",
    "    for i in range(len(texts)):\n",
    "        line_ix = [token_to_idx[c] for c in texts[i]]\n",
    "        texts_ix[i, :len(line_ix)] = line_ix\n",
    "        \n",
    "    if not batch_first: # convert [batch, time] into [time, batch]\n",
    "        texts_ix = np.transpose(texts_ix)\n",
    "\n",
    "    return texts_ix"
   ]
  },
  {
   "cell_type": "code",
   "execution_count": 124,
   "metadata": {},
   "outputs": [],
   "source": [
    "class CharRNNCeil(nn.Module):\n",
    "    \n",
    "    def __init__(self, num_tokens=num_tokens, embedding_size=32, rnn_num_units=128):\n",
    "        super(self.__class__, self).__init__()\n",
    "        self.num_units = rnn_num_units\n",
    "        self.embedding = nn.Embedding(num_tokens, embedding_size)\n",
    "        self.rnn = nn.RNN(embedding_size, rnn_num_units, batch_first=True)\n",
    "        self.rnn_to_logits = nn.Linear(rnn_num_units, num_tokens)\n",
    "    \n",
    "    def forward(self, x, h_state=None):\n",
    "        x_embed = self.embedding(x.view(1, -1))\n",
    "        out, h_next = self.rnn(x_embed.view(1, 1, -1), h_state)\n",
    "        logits = self.rnn_to_logits(out.view(1, -1))\n",
    "        return logits, h_next\n",
    "    \n",
    "    def initial_state(self):\n",
    "        \"\"\" return rnn state before it processes first input (aka h0) \"\"\"\n",
    "        return Variable(torch.zeros(1, 1, self.num_units))\n",
    "\n",
    "\n",
    "def rnn_loop(char_rnn, batch_ix):\n",
    "    \"\"\"\n",
    "    Computes log P(next_character) for all time-steps in names_ix\n",
    "    :param names_ix: an int32 matrix of shape [batch, time], output of to_matrix(names)\n",
    "    \"\"\"\n",
    "    batch_size, max_length = batch_ix.size()\n",
    "    hid_state = char_rnn.initial_state()\n",
    "    logprobs = []\n",
    "\n",
    "    for x_t in batch_ix.transpose(0,1):\n",
    "        logp_next, hid_state  = char_rnn(x_t, hid_state)  # <-- here we call your one-step code\n",
    "        logprobs.append(logp_next)\n",
    "        \n",
    "    return torch.stack(logprobs, dim=1)"
   ]
  },
  {
   "cell_type": "code",
   "execution_count": 125,
   "metadata": {},
   "outputs": [],
   "source": [
    "def get_chunk(chunk_size=300):\n",
    "    start_index = np.random.randint(0, len(text) - chunk_size)\n",
    "    end_index = start_index + chunk_size + 1\n",
    "    return text[start_index:end_index]"
   ]
  },
  {
   "cell_type": "code",
   "execution_count": 128,
   "metadata": {},
   "outputs": [],
   "source": [
    "def train(model, opt, criterion, chunk_size=200, epochs=2000, num_tokens=num_tokens):\n",
    "    history = []\n",
    "    for i in range(epochs):\n",
    "        batch_ix = to_matrix([get_chunk(chunk_size)])\n",
    "        batch_ix = torch.tensor(batch_ix, dtype=torch.int64)\n",
    "        logp_seq = rnn_loop(model, batch_ix)\n",
    "        # compute loss\n",
    "        \n",
    "        loss = criterion(logp_seq[:, :-1].contiguous().view(-1, num_tokens),\n",
    "                         batch_ix[:, 1:].contiguous().view(-1))\n",
    "        \n",
    "        \n",
    "        # train with backprop\n",
    "        loss.backward()\n",
    "        opt.step()\n",
    "        opt.zero_grad()\n",
    "        \n",
    "        history.append(loss.data.numpy())\n",
    "        if (i+1)%100==0:\n",
    "            clear_output(True)\n",
    "            plt.figure(figsize = (14, 6))\n",
    "            plt.plot(history,label='loss')\n",
    "            plt.grid()\n",
    "            plt.legend()\n",
    "            plt.show()\n",
    "\n",
    "    assert np.mean(history[:10]) > np.mean(history[-10:]), \"RNN didn't converge.\""
   ]
  },
  {
   "cell_type": "markdown",
   "metadata": {},
   "source": [
    "Plot the loss function (axis X: number of epochs, axis Y: loss function)."
   ]
  },
  {
   "cell_type": "code",
   "execution_count": 129,
   "metadata": {},
   "outputs": [
    {
     "data": {
      "image/png": "[encoded data removed]",
      "text/plain": [
       "<Figure size 1008x432 with 1 Axes>"
      ]
     },
     "metadata": {
      "needs_background": "light"
     },
     "output_type": "display_data"
    }
   ],
   "source": [
    "# Your plot code here\n",
    "char_rnn = CharRNNModel()\n",
    "opt = torch.optim.Adam(char_rnn.parameters())\n",
    "criterion = nn.CrossEntropyLoss()\n",
    "train(char_rnn, opt, criterion)"
   ]
  },
  {
   "cell_type": "code",
   "execution_count": 130,
   "metadata": {},
   "outputs": [],
   "source": [
    "MAX_LENGTH = 500"
   ]
  },
  {
   "cell_type": "code",
   "execution_count": 131,
   "metadata": {},
   "outputs": [
    {
     "name": "stdout",
     "output_type": "stream",
     "text": [
      "the lies, have nother dould stand hen yind whe mall of to mund that thear as it the whold woldsticht whilful men or the botrse,\n",
      "  of momath the wortn noth then thouge that with detion the worth well.\n",
      "  thy wroups timlly stcant of delight be pace that sumpard and fren whine so prabest hearto, have of your delel.\n",
      "  and love\n",
      "  thought, ang dove such to then shased and foon, thess will shall with when, or stor whith her gatiegh the sell--o do my ruming besidd that stall incelforn.\n",
      "    by bearsh lest\n"
     ]
    }
   ],
   "source": [
    "def generate_sample(char_rnn, seed_phrase=' hello', max_length=MAX_LENGTH, temperature=1.0):\n",
    "    '''\n",
    "    The function generates text given a phrase of length at least SEQ_LENGTH.\n",
    "    :param seed_phrase: prefix characters. The RNN is asked to continue the phrase\n",
    "    :param max_length: maximum output length, including seed_phrase\n",
    "    :param temperature: coefficient for sampling.  higher temperature produces more chaotic outputs, \n",
    "        smaller temperature converges to the single most likely output.\n",
    "        \n",
    "    Be careful with the model output. This model waits logits (not probabilities/log-probabilities)\n",
    "    of the next symbol.\n",
    "    '''\n",
    "    \n",
    "    x_sequence = [token_to_idx[token] for token in seed_phrase]\n",
    "    x_sequence = torch.tensor(x_sequence, dtype=torch.int64)\n",
    "    hid_state = char_rnn.initial_state()\n",
    "    \n",
    "    #feed the seed phrase, if any\n",
    "    for i in range(len(seed_phrase) - 1):\n",
    "        out, hid_state = char_rnn(x_sequence[i], hid_state)\n",
    "    \n",
    "    #start generating\n",
    "    for _ in range(max_length - len(seed_phrase)):\n",
    "        out, hid_state = char_rnn(x_sequence[-1], hid_state)\n",
    "        # Be really careful here with the model output\n",
    "        p_next = F.softmax(out / temperature, dim=-1).data.numpy()[0]\n",
    "        p_next = p_next.flatten()\n",
    "        \n",
    "        # sample next token and push it back into x_sequence\n",
    "        next_ix = np.random.choice(len(tokens), p=p_next)\n",
    "        next_ix = torch.tensor([next_ix], dtype=torch.int64)\n",
    "        x_sequence = torch.cat([x_sequence, next_ix], dim=0)\n",
    "        # print(x_sequence)\n",
    "    \n",
    "    return ''.join([tokens[ix] for ix in x_sequence.data.numpy()])\n",
    "\n",
    "# examples of generated text.\n",
    "print(generate_sample(char_rnn, seed_phrase=\"the\", max_length=500, temperature=0.8))"
   ]
  },
  {
   "cell_type": "code",
   "execution_count": 40,
   "metadata": {},
   "outputs": [
    {
     "name": "stdout",
     "output_type": "stream",
     "text": [
      "hide my will in thine?\n",
      "  shall will in of the simend that in my sime the seave the seave the sorll the soren the sange the seall seares and and the fart the wirl the seall the songh whing that thou hall will thoun the soond beare the with that sare the simest me the fart the wirl the songre the with thy seart so for shat so for do the dost the sing the sing the sing the soond canding the sack and the farling the wirl of sore sich and that with the seare the seall so fort the with the past the wirl the simen the wirl the sores the sare\n"
     ]
    }
   ],
   "source": [
    "# An example of generated text.\n",
    "# print(generate_text(length=500, temperature=0.2))"
   ]
  },
  {
   "cell_type": "markdown",
   "metadata": {},
   "source": [
    "### More poetic model\n",
    "\n",
    "Let's use LSTM instead of vanilla RNN and compare the results."
   ]
  },
  {
   "cell_type": "markdown",
   "metadata": {},
   "source": [
    "Plot the loss function of the number of epochs. Does the final loss become better?"
   ]
  },
  {
   "cell_type": "code",
   "execution_count": 132,
   "metadata": {},
   "outputs": [],
   "source": [
    "# Your beautiful code here\n",
    "class CharLSTMModel(nn.Module):\n",
    "    \n",
    "    def __init__(self, num_tokens=num_tokens, embedding_size=32, rnn_num_units=128):\n",
    "        super(self.__class__, self).__init__()\n",
    "        self.num_units = rnn_num_units\n",
    "        self.embedding = nn.Embedding(num_tokens, embedding_size)\n",
    "        self.lstm = nn.LSTM(input_size=embedding_size, hidden_size=rnn_num_units, batch_first=True)\n",
    "        self.hid_to_logits = nn.Linear(rnn_num_units, num_tokens)\n",
    "    \n",
    "    \n",
    "    def forward(self, x, h_state):\n",
    "        x_emb = self.embedding(x.view(1, -1))\n",
    "        h_seq, h_next = self.lstm(x_emb.view(1, 1, -1), h_state)\n",
    "        logits = self.hid_to_logits(h_seq.view(1, -1))\n",
    "        return logits, h_next\n",
    "    \n",
    "    \n",
    "    def initial_state(self):\n",
    "        \"\"\" return rnn state before it processes first input (aka h0) \"\"\"\n",
    "        return (Variable(torch.zeros(1, 1, self.num_units)), Variable(torch.zeros(1, 1, self.num_units)))"
   ]
  },
  {
   "cell_type": "markdown",
   "metadata": {},
   "source": [
    "Generate text using the trained net with different `temperature` parameter: `[0.1, 0.2, 0.5, 1.0, 2.0]`.\n",
    "\n",
    "Evaluate the results visually, try to interpret them."
   ]
  },
  {
   "cell_type": "code",
   "execution_count": 133,
   "metadata": {},
   "outputs": [
    {
     "data": {
      "image/png": "[encoded data removed]",
      "text/plain": [
       "<Figure size 1008x432 with 1 Axes>"
      ]
     },
     "metadata": {
      "needs_background": "light"
     },
     "output_type": "display_data"
    }
   ],
   "source": [
    "char_lstm = CharLSTMModel()\n",
    "opt = torch.optim.Adam(char_lstm.parameters())\n",
    "criterion = nn.CrossEntropyLoss()\n",
    "train(char_lstm, opt, criterion, chunk_size=500, epochs=2000)"
   ]
  },
  {
   "cell_type": "code",
   "execution_count": 136,
   "metadata": {},
   "outputs": [
    {
     "name": "stdout",
     "output_type": "stream",
     "text": [
      "\n",
      "Temperature: 0.1\n",
      " the see thee thee,\n",
      "  and the see the see the see the see the see thee,\n",
      "  and the shall the see the see the see the see,\n",
      "    the the see the self the see the see thee,\n",
      "  and the see the see the see the see the see,\n",
      "    the see the see the see the see the see thee,\n",
      "  and the see the see the see the see the see thee:\n",
      "    then the seet the see the see the see thee,\n",
      "  and the see the see the see the see the see,\n",
      "    the see the see the see the shall the see thee,\n",
      "  and the see the see the see the se\n",
      "\n",
      "Temperature: 0.2\n",
      " the see thee,\n",
      "  and the see the the the see the see the see thee:\n",
      "    then the see the see sunder and the see thee,\n",
      "  and the seet the beauty the see the grease,\n",
      "  and the seet the love the shall should the see,\n",
      "    the see the sweet the seet the see the sungers the see,\n",
      "  and the with thy self the see fare shall strease,\n",
      "    the love the shall shall the see the see thee,\n",
      "  and the still the self the see the with the see thee,\n",
      "  that the stall the see the see the see the seet,\n",
      "  and the see the\n",
      "\n",
      "Temperature: 0.5\n",
      " this self all day\n",
      "  thy seem despent the beaute's doth seen,\n",
      "  and ton self for the mandes as these stracked,\n",
      "  that be the shall the wan the love to my love,\n",
      "  the sour thy illed both in the seake,\n",
      "  that the bost the in that to me bare\n",
      "  so that i as so doth not string\n",
      "  the for the that doth to stall doth stand\n",
      "  hath have that such this sunguen in me shen.\n",
      "\n",
      "  cxxvii\n",
      "\n",
      "  thou thy beauty with the complets in time\n",
      "  the beauty and my all or the say,\n",
      "  which by thee such the shall the doth shell\n",
      "\n",
      "Temperature: 1.0\n",
      " cossed seed,\n",
      "  and that thee vourd but not tome bus,\n",
      "   and for thy fare flives smmeesed more fight\n",
      "  not his may add she partless, mysure bade\n",
      "  blesuling their self bind atindded;\n",
      "  a with, his ac'mbery love'd crmamleed swemen,\n",
      "  hayes when i ki may, and sment, leaventus brisue,\n",
      "  and feen live, your for sun it the straten'\n",
      "  the bound is not thought the vours the alx\n",
      "  which wy think and petain ander bur;\n",
      "    thal sight, for mustan find, or eye, froming blad to hear.\n",
      "\n",
      "  cxiv\n",
      "\n",
      "  as plight the\n",
      "\n",
      "Temperature: 2.0\n",
      " tlak(cole;\n",
      "  dair,ut i, hinguse nordly,t veve shongm:\n",
      "! ii, why frmeral'd'ss nele st if t! warl\n",
      " iontouggld, sondliod, rostinwed straot;\n",
      "  ganes, s-aigh ptigapel'-viwoe-tn je,\n",
      "  giisonceemes nops\n",
      " the, yxwiou\n",
      "- a, nyeef het.\n",
      " xlkv biet's aafjblest ixfon jofg oc love,\n",
      "  mon'dding.\n",
      "  o!.\n",
      " ,lith my;neiorttyglmeyss baer'd shapd!\n",
      " ,- kordextic't whecounglagbcle '-t;r.thow on,'kny,,, 't-cyre\n",
      " dalchsw! jjevun wandve oits\n",
      "  the, pfrave nowgly; give acors eov'st\n",
      "  laa,oinps nrexknttel of'shye,vys-o\n",
      "  a,\n"
     ]
    }
   ],
   "source": [
    "# Text generation with different temperature values here\n",
    "\n",
    "# examples of generated text.\n",
    "temperatures = [0.1, 0.2, 0.5, 1.0, 2.0]\n",
    "for t in temperatures:\n",
    "    print()\n",
    "    print('Temperature:', t)\n",
    "    print(generate_sample(char_lstm, seed_phrase=\" \", max_length=500, temperature=t))"
   ]
  },
  {
   "cell_type": "markdown",
   "metadata": {},
   "source": [
    "### Saving and loading models"
   ]
  },
  {
   "cell_type": "markdown",
   "metadata": {},
   "source": [
    "Save the model to the disk, then load it and generate text. Examples are available [here](https://pytorch.org/tutorials/beginner/saving_loading_models.html])."
   ]
  },
  {
   "cell_type": "code",
   "execution_count": 137,
   "metadata": {},
   "outputs": [
    {
     "name": "stdout",
     "output_type": "stream",
     "text": [
      " son bows chant wall.\n",
      "  you shost fairer callone from stoll in thine that mest be\n",
      "\n",
      "    and in seev'st fair my hervurlefone,\n",
      "    and when dure than in frod awauny new\n",
      "  and manterness have tanfue-nisure:\n",
      "  thou spuids frem mayst a poring--saisey fich'd me,\n",
      "  me tich you soon, no art, dode yow ir weman\n",
      "    thine, all fon logle pervers. nof wead.\n",
      "\n",
      "  lxxxii\n",
      "\n",
      "  that pisure in well far to therefore\n",
      "  hath, of untaln now hald twhe loves non:\n",
      "    creeds thy abownd travel'd thee my loss',\n",
      "  with haps abo\n"
     ]
    }
   ],
   "source": [
    "# Saving and loading code here\n",
    "\n",
    "filename = \"poem_lstm_model\"\n",
    "torch.save(char_lstm, filename)\n",
    "model = torch.load(filename)\n",
    "model.eval()\n",
    "print(generate_sample(model, seed_phrase=\" \", max_length=500, temperature=1))"
   ]
  },
  {
   "cell_type": "markdown",
   "metadata": {},
   "source": [
    "### References\n",
    "1. <a href='http://karpathy.github.io/2015/05/21/rnn-effectiveness/'> Andrew Karpathy blog post about RNN. </a> \n",
    "There are several examples of genration: Shakespeare texts, Latex formulas, Linux Sourse Code and children names.\n",
    "2. <a href='https://github.com/karpathy/char-rnn'> Repo with char-rnn code </a>\n",
    "3. Cool repo with PyTorch examples: [link](https://github.com/spro/practical-pytorch`)"
   ]
  }
 ],
 "metadata": {
  "anaconda-cloud": {},
  "kernelspec": {
   "display_name": "Python 3",
   "language": "python",
   "name": "python3"
  },
  "language_info": {
   "codemirror_mode": {
    "name": "ipython",
    "version": 3
   },
   "file_extension": ".py",
   "mimetype": "text/x-python",
   "name": "python",
   "nbconvert_exporter": "python",
   "pygments_lexer": "ipython3",
   "version": "3.8.5"
  }
 },
 "nbformat": 4,
 "nbformat_minor": 2
}
