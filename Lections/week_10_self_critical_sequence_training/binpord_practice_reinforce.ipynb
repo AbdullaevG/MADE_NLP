{
  "cells": [
    {
      "cell_type": "markdown",
      "metadata": {
        "id": "yIhUmAAkR24b"
      },
      "source": [
        "# Practice: REINFORCE in PyTorch\n",
        "__This notebook is based on [Practical_RL week06](https://github.com/yandexdataschool/Practical_RL/tree/master/week06_policy_based) materials__"
      ]
    },
    {
      "cell_type": "markdown",
      "metadata": {
        "id": "f4ugm59uR24d"
      },
      "source": [
        "Just like we did before for q-learning, this time we'll design a pytorch network to learn `CartPole-v0` via policy gradient (REINFORCE).\n",
        "\n",
        "Most of the code in this notebook is taken from approximate qlearning, so you'll find it more or less familiar and even simpler."
      ]
    },
    {
      "cell_type": "code",
      "execution_count": 1,
      "metadata": {
        "colab": {
          "base_uri": "https://localhost:8080/"
        },
        "id": "NiaF9QLRR24e",
        "outputId": "a6973d05-7704-42e6-b371-b64eaf046322"
      },
      "outputs": [
        {
          "output_type": "stream",
          "name": "stdout",
          "text": [
            "Selecting previously unselected package xvfb.\n",
            "(Reading database ... 155632 files and directories currently installed.)\n",
            "Preparing to unpack .../xvfb_2%3a1.19.6-1ubuntu4.10_amd64.deb ...\n",
            "Unpacking xvfb (2:1.19.6-1ubuntu4.10) ...\n",
            "Setting up xvfb (2:1.19.6-1ubuntu4.10) ...\n",
            "Processing triggers for man-db (2.8.3-2ubuntu0.1) ...\n",
            "Starting virtual X frame buffer: Xvfb.\n"
          ]
        }
      ],
      "source": [
        "import os\n",
        "import sys\n",
        "\n",
        "\n",
        "if \"google.colab\" in sys.modules and not os.path.exists(\".setup_complete\"):\n",
        "    !wget -q https://raw.githubusercontent.com/yandexdataschool/Practical_RL/master/setup_colab.sh -O- | bash\n",
        "    !touch .setup_complete\n",
        "\n",
        "# This code creates a virtual display to draw game images on.\n",
        "# It will have no effect if your machine has a monitor.\n",
        "if type(os.environ.get(\"DISPLAY\")) is not str or len(os.environ.get(\"DISPLAY\")) == 0:\n",
        "    !bash ../xvfb start\n",
        "    os.environ[\"DISPLAY\"] = \":1\""
      ]
    },
    {
      "cell_type": "code",
      "execution_count": 2,
      "metadata": {
        "colab": {
          "base_uri": "https://localhost:8080/",
          "height": 269
        },
        "id": "7EYF5lpLR24e",
        "outputId": "8d19c275-36dd-4cd9-9982-0a900a75c38f"
      },
      "outputs": [
        {
          "output_type": "display_data",
          "data": {
            "text/plain": [
              "<Figure size 432x288 with 1 Axes>"
            ],
            "image/png": "[encoded data removed]"
          },
          "metadata": {
            "needs_background": "light"
          }
        }
      ],
      "source": [
        "import gym\n",
        "import matplotlib.pyplot as plt\n",
        "import numpy as np\n",
        "import pandas as pd\n",
        "\n",
        "\n",
        "%matplotlib inline\n",
        "\n",
        "env = gym.make(\"CartPole-v0\").env\n",
        "env.reset()\n",
        "n_actions = env.action_space.n\n",
        "state_dim = env.observation_space.shape[0]\n",
        "\n",
        "plt.imshow(env.render(\"rgb_array\"));"
      ]
    },
    {
      "cell_type": "markdown",
      "metadata": {
        "id": "-PR2YFXrR24f"
      },
      "source": [
        "## Building the network for REINFORCE"
      ]
    },
    {
      "cell_type": "markdown",
      "metadata": {
        "id": "o_tWdvOMR24f"
      },
      "source": [
        "For REINFORCE algorithm, we'll need a model that predicts action probabilities given states. Let's define such a model below."
      ]
    },
    {
      "cell_type": "code",
      "execution_count": 3,
      "metadata": {
        "id": "4bqkxAmgR24f"
      },
      "outputs": [],
      "source": [
        "import torch\n",
        "import torch.nn as nn\n",
        "\n",
        "\n",
        "# YOUR CODE HERE\n",
        "# Build a simple neural network that predicts policy logits.\n",
        "# Hint: keep it simple. CartPole isn't worth deep architectures.\n",
        "# model = nn.Sequential(...)\n",
        "hidden_dim = 16\n",
        "model = nn.Sequential(\n",
        "    nn.Linear(state_dim, hidden_dim),\n",
        "    nn.ReLU(),\n",
        "    nn.Linear(hidden_dim, hidden_dim),\n",
        "    nn.ReLU(),\n",
        "    nn.Linear(hidden_dim, n_actions),\n",
        ")"
      ]
    },
    {
      "cell_type": "markdown",
      "metadata": {
        "id": "WHzZxBk4R24f"
      },
      "source": [
        "## Predict function"
      ]
    },
    {
      "cell_type": "markdown",
      "metadata": {
        "id": "iCzve02MS2rS"
      },
      "source": [
        "Let's define function which will take states as input and return probabilities for actions.\n",
        "\n",
        "> Note: input and output of this function are not a torch tensors, they're numpy arrays."
      ]
    },
    {
      "cell_type": "code",
      "execution_count": 4,
      "metadata": {
        "id": "3ZW2P5oZR24g"
      },
      "outputs": [],
      "source": [
        "def predict_probs(state):\n",
        "    # YOUR CODE HERE\n",
        "    # Predict action probabilities given current state.\n",
        "    # Note: state is a numpy array of shape [state_dim]\n",
        "    # and return value should be a numpy array of shape [n_actions]\n",
        "    # probs = ...\n",
        "    state = torch.tensor(state[None, ...], dtype=torch.float32)\n",
        "    with torch.no_grad():\n",
        "        logits = model(state)[0]\n",
        "\n",
        "    probs = torch.softmax(logits, dim=0).numpy()\n",
        "    return probs"
      ]
    },
    {
      "cell_type": "code",
      "source": [
        "predict_probs(env.reset()) # get policy: pi(left|s), pi(right|s)"
      ],
      "metadata": {
        "id": "txIFwuMArdPK",
        "outputId": "b280109d-002f-43dd-c004-6096bda292e6",
        "colab": {
          "base_uri": "https://localhost:8080/"
        }
      },
      "execution_count": 6,
      "outputs": [
        {
          "output_type": "execute_result",
          "data": {
            "text/plain": [
              "array([0.51351744, 0.48648253], dtype=float32)"
            ]
          },
          "metadata": {},
          "execution_count": 6
        }
      ]
    },
    {
      "cell_type": "code",
      "execution_count": 5,
      "metadata": {
        "id": "BYFGLVhXR24g"
      },
      "outputs": [],
      "source": [
        "for _ in range(5):\n",
        "    test_state = env.reset()\n",
        "    test_probs = predict_probs(test_state)\n",
        "    assert isinstance(\n",
        "        test_probs, np.ndarray\n",
        "    ), f\"you must return np array and not {type(test_probs)}\"\n",
        "    assert tuple(test_probs.shape) == (n_actions,), f\"wrong output shape: {test_probs.shape}\"\n",
        "    assert np.isclose(test_probs.sum(), 1), \"probabilities do not sum to 1\""
      ]
    },
    {
      "cell_type": "markdown",
      "metadata": {
        "id": "WN6_Ia3pR24g"
      },
      "source": [
        "## Play the game"
      ]
    },
    {
      "cell_type": "markdown",
      "metadata": {
        "id": "_hcHPzssW7cQ"
      },
      "source": [
        "We can now use our newly built agent to play the game."
      ]
    },
    {
      "cell_type": "code",
      "execution_count": 7,
      "metadata": {
        "id": "ax-53tyaR24g"
      },
      "outputs": [],
      "source": [
        "def generate_session(env, time_limit=1000):\n",
        "    states, actions, rewards = [], [], []\n",
        "    state = env.reset()\n",
        "\n",
        "    for _ in range(time_limit):\n",
        "        action_probs = predict_probs(state)\n",
        "\n",
        "        # YOUR CODE HERE\n",
        "        # Sample action with given probabilities.\n",
        "        # action = ...\n",
        "        action = np.random.choice(n_actions, p=action_probs)\n",
        "\n",
        "        new_state, reward, done, _ = env.step(action)\n",
        "\n",
        "        # record session history to train later.\n",
        "        states.append(state)\n",
        "        actions.append(action)\n",
        "        rewards.append(reward)\n",
        "\n",
        "        state = new_state\n",
        "        if done:\n",
        "            break\n",
        "\n",
        "    # Convert to numpy for faster to torch transformations.\n",
        "    return np.array(states), np.array(actions), np.array(rewards)"
      ]
    },
    {
      "cell_type": "code",
      "execution_count": 8,
      "metadata": {
        "id": "YH9owxzfR24h"
      },
      "outputs": [],
      "source": [
        "# test it\n",
        "states, actions, rewards = generate_session(env)"
      ]
    },
    {
      "cell_type": "code",
      "source": [
        "states.shape"
      ],
      "metadata": {
        "id": "AueLyyo_spli",
        "outputId": "c8d196e6-8337-4387-a10e-890f3f1f6103",
        "colab": {
          "base_uri": "https://localhost:8080/"
        }
      },
      "execution_count": 9,
      "outputs": [
        {
          "output_type": "execute_result",
          "data": {
            "text/plain": [
              "(14, 4)"
            ]
          },
          "metadata": {},
          "execution_count": 9
        }
      ]
    },
    {
      "cell_type": "code",
      "source": [
        "print(rewards)"
      ],
      "metadata": {
        "id": "2IbdQM03sr_I",
        "outputId": "a62301d8-e44e-476e-8904-3ec76a8fd749",
        "colab": {
          "base_uri": "https://localhost:8080/"
        }
      },
      "execution_count": 10,
      "outputs": [
        {
          "output_type": "stream",
          "name": "stdout",
          "text": [
            "[1. 1. 1. 1. 1. 1. 1. 1. 1. 1. 1. 1. 1. 1.]\n"
          ]
        }
      ]
    },
    {
      "cell_type": "markdown",
      "metadata": {
        "id": "f7HDoCmCR24h"
      },
      "source": [
        "## Computing cumulative rewards"
      ]
    },
    {
      "cell_type": "markdown",
      "metadata": {
        "id": "e9VpDiXeXGZE"
      },
      "source": [
        "Now that we have our session's rewards, let's compute cumulative rewards for actions:\n",
        "\n",
        "$$ G_t = r_t + \\gamma r_{t+1} + \\gamma^2 r_{t+2} + \\ldots = r_t + \\gamma G_{t+1} $$"
      ]
    },
    {
      "cell_type": "code",
      "execution_count": 12,
      "metadata": {
        "id": "Uoiw4y83R24h"
      },
      "outputs": [],
      "source": [
        "def get_cumulative_rewards(rewards, gamma=0.99):\n",
        "    # YOUR CODE HERE\n",
        "    # Take a list of rewards for the whole session and compute cumulative rewards.\n",
        "    # Note: you must return an array of cumulative rewards with as many elemnts as\n",
        "    # in the initial one.\n",
        "    # Hint: the simplest way would be to iterate from last reward to first and\n",
        "    # compute G_t = r_t + gamma * G_{t+1} recurrently.\n",
        "    # cumulative_rewards = ...\n",
        "    cumulative_rewards = np.zeros_like(rewards, dtype=float)\n",
        "    cumulative_rewards[-1] = rewards[-1]\n",
        "    for i in reversed(range(len(rewards) - 1)):\n",
        "        cumulative_rewards[i] = rewards[i] + gamma * cumulative_rewards[i + 1]\n",
        "\n",
        "    return cumulative_rewards"
      ]
    },
    {
      "cell_type": "code",
      "execution_count": 13,
      "metadata": {
        "id": "NMJECrKpR24h"
      },
      "outputs": [],
      "source": [
        "assert isinstance(get_cumulative_rewards(rewards), np.ndarray)\n",
        "assert len(get_cumulative_rewards(list(range(100)))) == 100\n",
        "assert np.allclose(\n",
        "    get_cumulative_rewards([0, 0, 1, 0, 0, 1, 0], gamma=0.9),\n",
        "    [1.40049, 1.5561, 1.729, 0.81, 0.9, 1.0, 0.0],\n",
        ")\n",
        "assert np.allclose(\n",
        "    get_cumulative_rewards([0, 0, 1, -2, 3, -4, 0], gamma=0.5),\n",
        "    [0.0625, 0.125, 0.25, -1.5, 1.0, -4.0, 0.0],\n",
        ")\n",
        "assert np.allclose(get_cumulative_rewards([0, 0, 1, 2, 3, 4, 0], gamma=0), [0, 0, 1, 2, 3, 4, 0])"
      ]
    },
    {
      "cell_type": "markdown",
      "metadata": {
        "id": "mgtYuM9ZR24i"
      },
      "source": [
        "## Loss function and updates"
      ]
    },
    {
      "cell_type": "markdown",
      "metadata": {
        "id": "VX0-DFW_btxO"
      },
      "source": [
        "We now need to define objective and update over policy gradient.\n",
        "\n",
        "Our objective function is\n",
        "\n",
        "$$ J \\approx  { 1 \\over N } \\sum_{s_i,a_i} G(s_i,a_i) $$\n",
        "\n",
        "REINFORCE defines a way to compute the gradient of the expected reward with respect to policy parameters. The formula is as follows:\n",
        "\n",
        "$$ \\nabla_\\theta \\hat J(\\theta) \\approx { 1 \\over N } \\sum_{s_i, a_i} \\nabla_\\theta \\log \\pi_\\theta (a_i \\mid s_i) \\cdot G_t(s_i, a_i) $$\n",
        "\n",
        "Which means that we can abuse PyTorch's capabilities for automatic differentiation by defining our objective function as follows:\n",
        "\n",
        "$$ \\hat J(\\theta) \\approx { 1 \\over N } \\sum_{s_i, a_i} \\log \\pi_\\theta (a_i \\mid s_i) \\cdot G_t(s_i, a_i) $$\n",
        "\n",
        "When you compute the gradient of that function with respect to network weights $\\theta$, it will become exactly the policy gradient."
      ]
    },
    {
      "cell_type": "code",
      "execution_count": 14,
      "metadata": {
        "id": "lu2POiuwR24i"
      },
      "outputs": [],
      "source": [
        "optimizer = torch.optim.Adam(model.parameters(), 1e-3)\n",
        "\n",
        "\n",
        "def train_on_session(states, actions, rewards, gamma=0.99, entropy_coef=1e-2):\n",
        "    states = torch.tensor(states, dtype=torch.float32)  # shape: [batch_size, state_dim]\n",
        "    actions = torch.tensor(actions, dtype=torch.long)  # shape: [batch_size]\n",
        "    # cumulative_returns = np.array(get_cumulative_rewards(rewards, gamma))\n",
        "    # cumulative_returns = torch.tensor(cumulative_returns, dtype=torch.float32)  # shape: [batch_size]\n",
        "    cumulative_returns = torch.tensor(\n",
        "        get_cumulative_rewards(rewards, gamma), dtype=torch.float32\n",
        "    )  # shape: [batch_size]\n",
        "\n",
        "    # Predict probas and log-probas using an agent.\n",
        "    logits = model(states)\n",
        "    probs = torch.softmax(logits, dim=1)\n",
        "    log_probs = torch.log_softmax(logits, dim=1)\n",
        "\n",
        "    # Select log-probabilities for chosen actions, log pi(a_i|s_i)\n",
        "    log_probs_for_actions = log_probs[range(states.shape[0]), actions]\n",
        "\n",
        "    # YOUR CODE HERE\n",
        "    # Compute loss here.\n",
        "    # Don't forget entropy regularization with `entropy_coef`.\n",
        "    # entropy = ...\n",
        "    # loss = ...\n",
        "    entropy = (probs * log_probs).sum()\n",
        "    loss = (log_probs_for_actions * cumulative_returns).sum() + entropy_coef * entropy\n",
        "    loss = -loss\n",
        "\n",
        "    # Gradient descent step.\n",
        "    optimizer.zero_grad()\n",
        "    loss.backward()\n",
        "    optimizer.step()\n",
        "\n",
        "    # Return session rewards to print them later.\n",
        "    return rewards.sum()"
      ]
    },
    {
      "cell_type": "markdown",
      "metadata": {
        "id": "3JM455vnR24i"
      },
      "source": [
        "### The actual training"
      ]
    },
    {
      "cell_type": "code",
      "execution_count": 15,
      "metadata": {
        "colab": {
          "base_uri": "https://localhost:8080/"
        },
        "id": "Isuz7Wz7R24j",
        "outputId": "66f1c761-e2c7-4820-9e8b-3f9a0f3cf85e",
        "scrolled": true
      },
      "outputs": [
        {
          "output_type": "stream",
          "name": "stdout",
          "text": [
            "mean reward: 22.9\n",
            "mean reward: 30.0\n",
            "mean reward: 36.6\n",
            "mean reward: 50.2\n",
            "mean reward: 74.3\n",
            "mean reward: 106.9\n",
            "mean reward: 261.7\n",
            "mean reward: 580.2\n",
            "You Win!\n"
          ]
        }
      ],
      "source": [
        "for i in range(100):\n",
        "    rewards = [train_on_session(*generate_session(env)) for _ in range(100)]\n",
        "    mean_reward = np.mean(rewards)\n",
        "    print(f\"mean reward: {mean_reward:.1f}\")\n",
        "    if mean_reward > 500:\n",
        "        print(\"You Win!\")\n",
        "        break"
      ]
    },
    {
      "cell_type": "markdown",
      "metadata": {
        "id": "6mD639TSR24j"
      },
      "source": [
        "### Video"
      ]
    },
    {
      "cell_type": "code",
      "execution_count": 16,
      "metadata": {
        "id": "KwNEr5VfR24j"
      },
      "outputs": [],
      "source": [
        "# Record sessions\n",
        "import gym.wrappers\n",
        "\n",
        "\n",
        "with gym.wrappers.Monitor(gym.make(\"CartPole-v0\"), directory=\"videos\", force=True) as env_monitor:\n",
        "    sessions = [generate_session(env_monitor) for _ in range(100)]"
      ]
    },
    {
      "cell_type": "code",
      "execution_count": 17,
      "metadata": {
        "colab": {
          "base_uri": "https://localhost:8080/",
          "height": 502
        },
        "id": "IDjLfLV3R24j",
        "outputId": "34d71a9a-31d0-47bb-ea3c-09c58e936a62"
      },
      "outputs": [
        {
          "output_type": "execute_result",
          "data": {
            "text/plain": [
              "<IPython.core.display.HTML object>"
            ],
            "text/html": [
              "\n",
              "<video width=\"640\" height=\"480\" controls>\n",
              "  <source src=\"data:video/mp4;base64,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\" type=\"video/mp4\">\n",
              "</video>\n"
            ]
          },
          "metadata": {},
          "execution_count": 17
        }
      ],
      "source": [
        "# Show video. This may not work in some setups. If it doesn't\n",
        "# work for you, you can download the videos and view them locally.\n",
        "\n",
        "from base64 import b64encode\n",
        "from pathlib import Path\n",
        "\n",
        "from IPython.display import HTML\n",
        "\n",
        "\n",
        "video_paths = sorted([s for s in Path('videos').iterdir() if s.suffix == '.mp4'])\n",
        "video_path = video_paths[-1]  # You can also try other indices\n",
        "\n",
        "if 'google.colab' in sys.modules:\n",
        "    # https://stackoverflow.com/a/57378660/1214547\n",
        "    with video_path.open('rb') as fp:\n",
        "        mp4 = fp.read()\n",
        "    data_url = 'data:video/mp4;base64,' + b64encode(mp4).decode()\n",
        "else:\n",
        "    data_url = str(video_path)\n",
        "\n",
        "HTML(\n",
        "    \"\"\"\n",
        "<video width=\"640\" height=\"480\" controls>\n",
        "  <source src=\"{}\" type=\"video/mp4\">\n",
        "</video>\n",
        "\"\"\".format(\n",
        "        data_url\n",
        "    )\n",
        ")"
      ]
    },
    {
      "cell_type": "markdown",
      "metadata": {
        "id": "8XPawOnFR24j"
      },
      "source": [
        "## Bonus area: solving Acrobot-v1"
      ]
    },
    {
      "cell_type": "markdown",
      "metadata": {
        "id": "0cyaxV6Lg2q4"
      },
      "source": [
        "Try to solve more complex environment using Policy gradient method.\n",
        "*Hint: you will need add some imporovements to the original REINFORCE (e.g. Advantage Actor Critic or anything else).*"
      ]
    },
    {
      "cell_type": "code",
      "execution_count": null,
      "metadata": {
        "colab": {
          "base_uri": "https://localhost:8080/",
          "height": 269
        },
        "id": "olsGdlZNR24j",
        "outputId": "91c24932-fbf5-4941-a1ec-9d56494482b6"
      },
      "outputs": [
        {
          "data": {
            "image/png": "[encoded data removed]",
            "text/plain": [
              "<Figure size 432x288 with 1 Axes>"
            ]
          },
          "metadata": {
            "needs_background": "light"
          },
          "output_type": "display_data"
        }
      ],
      "source": [
        "env = gym.make(\"Acrobot-v1\")\n",
        "env.reset()\n",
        "\n",
        "plt.imshow(env.render(\"rgb_array\"))\n",
        "state_dim = env.reset().shape[0]\n",
        "n_actions = env.action_space.n"
      ]
    },
    {
      "cell_type": "code",
      "execution_count": null,
      "metadata": {
        "id": "stsfWcS8R24k"
      },
      "outputs": [],
      "source": [
        "# YOUR CODE HERE"
      ]
    }
  ],
  "metadata": {
    "colab": {
      "name": "binpord_practice_reinforce.ipynb",
      "provenance": []
    },
    "kernelspec": {
      "display_name": "Python 3 (ipykernel)",
      "language": "python",
      "name": "python3"
    },
    "language_info": {
      "codemirror_mode": {
        "name": "ipython",
        "version": 3
      },
      "file_extension": ".py",
      "mimetype": "text/x-python",
      "name": "python",
      "nbconvert_exporter": "python",
      "pygments_lexer": "ipython3",
      "version": "3.9.7"
    }
  },
  "nbformat": 4,
  "nbformat_minor": 0
}